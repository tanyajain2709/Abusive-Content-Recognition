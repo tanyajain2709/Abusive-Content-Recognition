{
 "cells": [
  {
   "cell_type": "code",
   "execution_count": 15,
   "metadata": {
    "collapsed": false
   },
   "outputs": [],
   "source": [
    "import nltk.corpus\n",
    "import string\n",
    "import re , math\n",
    "from collections import Counter\n",
    "%matplotlib inline\n",
    "import matplotlib.pyplot as plt"
   ]
  },
  {
   "cell_type": "code",
   "execution_count": 2,
   "metadata": {
    "collapsed": false
   },
   "outputs": [],
   "source": [
    "import os\n",
    "import sys\n",
    "os.chdir(\"/home/tanya/Desktop/major/spark\")\n",
    "os.curdir\n",
    "if 'SPARK_HOME' not in os.environ:\n",
    "    os.environ['SPARK_HOME']='/home/tanya/spark-2.0.0-bin-hadoop2.4'\n",
    "SPARK_HOME=os.environ['SPARK_HOME']\n",
    "\n",
    "sys.path.insert(0,os.path.join(SPARK_HOME,\"python\"))\n",
    "sys.path.insert(0,os.path.join(SPARK_HOME,\"python\",\"lib\"))\n",
    "sys.path.insert(0,os.path.join(SPARK_HOME,\"python\",\"lib\",\"pyspark.zip\"))\n",
    "sys.path.insert(0,os.path.join(SPARK_HOME,\"python\",\"lib\",\"py4j-0.10.1-src.zip\"))\n",
    "\n",
    "from pyspark import SparkContext\n",
    "from pyspark import SparkConf\n",
    "\n",
    "conf=SparkConf()\n",
    "conf.set(\"spark.executor.memory\",\"1g\")\n",
    "conf.set(\"spark.cores.max\",\"1\")\n",
    "\n",
    "conf.setAppName(\"major\")\n",
    "\n",
    "sc = SparkContext('local',conf=conf)\n",
    "\n"
   ]
  },
  {
   "cell_type": "code",
   "execution_count": 3,
   "metadata": {
    "collapsed": true
   },
   "outputs": [],
   "source": [
    "from pyspark.sql import SQLContext\n",
    "from pyspark.sql import Row"
   ]
  },
  {
   "cell_type": "code",
   "execution_count": 4,
   "metadata": {
    "collapsed": true
   },
   "outputs": [],
   "source": [
    "## after context eval rdd\n",
    "def proc_change(x):\n",
    "    l = str(x).split(\",\")\n",
    "    #print l\n",
    "    status = int((list(l[0])[11:][0]))\n",
    "    #print status\n",
    "    tid = int(l[1][5:])\n",
    "    #print tid\n",
    "    tweet = list(l[2])[9:]\n",
    "    \n",
    "    tweet.pop(len(tweet)-1)\n",
    "    tweet.pop(len(tweet)-1)\n",
    "    tweet=''.join(tweet)\n",
    "    #print tweet\n",
    "    return(Row(status=status,tid=tid,tweet=tweet))\n",
    "\n"
   ]
  },
  {
   "cell_type": "code",
   "execution_count": 5,
   "metadata": {
    "collapsed": false
   },
   "outputs": [
    {
     "data": {
      "text/plain": [
       "551"
      ]
     },
     "execution_count": 5,
     "metadata": {},
     "output_type": "execute_result"
    }
   ],
   "source": [
    "## rdd containg adj_offensivee tweets\n",
    "adj = sc.textFile(\"/home/tanya/Desktop/major/after_phase1/analyse/classifiers/rdd_files/adj_off.csv\")\n",
    "adj.count()\n",
    "adj =adj.map(proc_change)\n",
    "adj.count()"
   ]
  },
  {
   "cell_type": "code",
   "execution_count": 6,
   "metadata": {
    "collapsed": false
   },
   "outputs": [
    {
     "data": {
      "text/plain": [
       "1324"
      ]
     },
     "execution_count": 6,
     "metadata": {},
     "output_type": "execute_result"
    }
   ],
   "source": [
    "## rdd containg adj_clean tweets\n",
    "adj_clean = sc.textFile(\"/home/tanya/Desktop/major/after_phase1/analyse/classifiers/rdd_files/adj_clean.csv\")\n",
    "adj_clean.count()\n",
    "adj_clean =adj_clean.map(proc_change)\n",
    "adj_clean.count()"
   ]
  },
  {
   "cell_type": "code",
   "execution_count": 7,
   "metadata": {
    "collapsed": false
   },
   "outputs": [
    {
     "name": "stdout",
     "output_type": "stream",
     "text": [
      "tp  98\n",
      "tn  1303\n",
      "fp  453\n",
      "fn  21\n"
     ]
    }
   ],
   "source": [
    "##calculating the parameters of adjective based approach\n",
    "adj_fp = 0\n",
    "adj_fn = 0\n",
    "adj_tp = 0\n",
    "adj_tn = 0\n",
    "for x in adj.collect():\n",
    "    if x.status == 0:\n",
    "        adj_fp = adj_fp +1\n",
    "    else:\n",
    "        adj_tp = adj_tp+1\n",
    "\n",
    "for x in adj_clean.collect():\n",
    "    if x.status == 0:\n",
    "        adj_tn = adj_tn +1\n",
    "    else:\n",
    "        adj_fn = adj_fn+1\n",
    "\n",
    "print \"tp \" , adj_tp\n",
    "print \"tn \" , adj_tn\n",
    "print \"fp \" , adj_fp\n",
    "print \"fn \" , adj_fn"
   ]
  },
  {
   "cell_type": "code",
   "execution_count": 8,
   "metadata": {
    "collapsed": false
   },
   "outputs": [
    {
     "name": "stdout",
     "output_type": "stream",
     "text": [
      "precision 17 %\n",
      "accuracy 74 %\n",
      "recall 82 %\n"
     ]
    }
   ],
   "source": [
    "## calculating the accuracy of adjective based approaach\n",
    "#1) PRECISION \n",
    "adj_precision = (adj_tp*100)/(adj_tp+adj_fp)\n",
    "print \"precision\" , adj_precision ,\"%\"\n",
    "\n",
    "#2) ACCURACY \n",
    "adj_accuracy = (adj_tp+adj_tn)*100/(adj_tp+adj_tn+adj_fp+adj_fn)\n",
    "print \"accuracy\", adj_accuracy,\"%\"\n",
    "\n",
    "#3)RECALL\n",
    "adj_recall = (adj_tp*100)/(adj_tp+adj_fn)\n",
    "print \"recall\", adj_recall,\"%\""
   ]
  },
  {
   "cell_type": "code",
   "execution_count": 9,
   "metadata": {
    "collapsed": true
   },
   "outputs": [],
   "source": [
    "## for cos offensive"
   ]
  },
  {
   "cell_type": "code",
   "execution_count": 10,
   "metadata": {
    "collapsed": false
   },
   "outputs": [
    {
     "data": {
      "text/plain": [
       "52"
      ]
     },
     "execution_count": 10,
     "metadata": {},
     "output_type": "execute_result"
    }
   ],
   "source": [
    "## rdd containg cos_offensivee tweets\n",
    "cos = sc.textFile(\"/home/tanya/Desktop/major/after_phase1/analyse/classifiers/rdd_files/cos_offensive.csv\")\n",
    "cos.count()\n",
    "cos = cos.map(proc_change)\n",
    "cos.count()"
   ]
  },
  {
   "cell_type": "code",
   "execution_count": 11,
   "metadata": {
    "collapsed": false
   },
   "outputs": [
    {
     "data": {
      "text/plain": [
       "1833"
      ]
     },
     "execution_count": 11,
     "metadata": {},
     "output_type": "execute_result"
    }
   ],
   "source": [
    "## rdd containg cos_offensivee tweets\n",
    "cos_clean = sc.textFile(\"/home/tanya/Desktop/major/after_phase1/analyse/classifiers/rdd_files/cos_clean.csv\")\n",
    "cos_clean.count()\n",
    "cos_clean = cos_clean.map(proc_change)\n",
    "cos_clean.count()"
   ]
  },
  {
   "cell_type": "code",
   "execution_count": 16,
   "metadata": {
    "collapsed": false
   },
   "outputs": [],
   "source": [
    "##calculating the parameters of cos based approach\n",
    "cos_fp = 0\n",
    "cos_fn = 0\n",
    "cos_tp = 0\n",
    "cos_tn = 0\n",
    "for x in cos.collect():\n",
    "    if x.status == 0:\n",
    "        cos_fp = cos_fp +1\n",
    "    else:\n",
    "        cos_tp = cos_tp+1\n",
    "\n",
    "for x in adj_clean.collect():\n",
    "    if x.status == 0:\n",
    "        cos_tn = cos_tn +1\n",
    "    else:\n",
    "        cos_fn = cos_fn+1\n"
   ]
  },
  {
   "cell_type": "code",
   "execution_count": 13,
   "metadata": {
    "collapsed": false
   },
   "outputs": [
    {
     "name": "stdout",
     "output_type": "stream",
     "text": [
      "precision 7 %\n",
      "accuracy 94 %\n",
      "recall 16 %\n"
     ]
    }
   ],
   "source": [
    "## calculating the accuracy of cos based approaach\n",
    "#1) PRECISION \n",
    "cos_precision = (cos_tp*100)/(cos_tp+cos_fp)\n",
    "print \"precision\" , cos_precision ,\"%\"\n",
    "\n",
    "#2) ACCURACY \n",
    "cos_accuracy = (cos_tp+cos_tn)*100/(cos_tp+cos_tn+cos_fp+cos_fn)\n",
    "print \"accuracy\", cos_accuracy,\"%\"\n",
    "\n",
    "#3)RECALL\n",
    "cos_recall = (cos_tp*100)/(cos_tp+cos_fn)\n",
    "print \"recall\", cos_recall,\"%\""
   ]
  },
  {
   "cell_type": "code",
   "execution_count": null,
   "metadata": {
    "collapsed": true
   },
   "outputs": [],
   "source": [
    "### analysing the results "
   ]
  },
  {
   "cell_type": "code",
   "execution_count": 14,
   "metadata": {
    "collapsed": false
   },
   "outputs": [
    {
     "data": {
      "image/png": "[encoded data removed]",
      "text/plain": [
       "<matplotlib.figure.Figure at 0x7f793861b590>"
      ]
     },
     "metadata": {},
     "output_type": "display_data"
    }
   ],
   "source": [
    "## dataset \n",
    "sizes=[5.92,94.08] #sum of all the elements should be 100\n",
    "colors=['green','red']\n",
    "labels=['OFFENSIVE','NON OFFENSIVE']\n",
    "plt.pie(sizes,colors=colors,startangle=30,labels=labels)\n",
    "plt.axis('equal') #to make a proper circle\n",
    "plt.title('DATASET ANALYSIS')\n",
    "plt.legend(title='legend',loc='best')\n",
    "plt.show()"
   ]
  },
  {
   "cell_type": "code",
   "execution_count": 90,
   "metadata": {
    "collapsed": false
   },
   "outputs": [
    {
     "data": {
      "image/png": "[encoded data removed]",
      "text/plain": [
       "<matplotlib.figure.Figure at 0x7f9a388d7050>"
      ]
     },
     "metadata": {},
     "output_type": "display_data"
    }
   ],
   "source": [
    "# 1) in terms of precision\n",
    "#bar graph\n",
    "import numpy as np\n",
    "pos=np.arange(2)+1\n",
    "years=[\"COS_SIMILARITY\", \"ADJECTIVE_BASED\"]\n",
    "plt.bar(pos,(cos_precision,adj_precision),align='center',color='blue')\n",
    "plt.xlabel('TECHNIQUE')\n",
    "plt.ylabel('PRECISION')\n",
    "plt.title('PRECISION ANALYSIS')\n",
    "plt.tick_params(axis='x',color='white')\n",
    "plt.tick_params(axis='y',color='white')\n",
    "plt.xticks(pos,years)\n",
    " \n",
    "plt.show()\n",
    "\n"
   ]
  },
  {
   "cell_type": "code",
   "execution_count": 92,
   "metadata": {
    "collapsed": false
   },
   "outputs": [
    {
     "data": {
      "image/png": "[encoded data removed]",
      "text/plain": [
       "<matplotlib.figure.Figure at 0x7f9a387e2d90>"
      ]
     },
     "metadata": {},
     "output_type": "display_data"
    }
   ],
   "source": [
    "# 1) in terms of precision\n",
    "#bar graph\n",
    "import numpy as np\n",
    "pos=np.arange(2)+1\n",
    "years=[\"COS_SIMILARITY\", \"ADJECTIVE_BASED\"]\n",
    "plt.bar(pos,(cos_accuracy,adj_accuracy),align='center',color='red')\n",
    "plt.xlabel('TECHNIQUE')\n",
    "plt.ylabel('ACCURACY')\n",
    "plt.title('ACCURACY ANALYSIS')\n",
    "plt.tick_params(axis='x',color='white')\n",
    "plt.tick_params(axis='y',color='white')\n",
    "plt.xticks(pos,years)\n",
    " \n",
    "plt.show()\n",
    "\n"
   ]
  },
  {
   "cell_type": "code",
   "execution_count": 94,
   "metadata": {
    "collapsed": false
   },
   "outputs": [
    {
     "data": {
      "image/png": "[encoded data removed]",
      "text/plain": [
       "<matplotlib.figure.Figure at 0x7f9a3866ef90>"
      ]
     },
     "metadata": {},
     "output_type": "display_data"
    }
   ],
   "source": [
    "# 1) in terms of precision\n",
    "#bar graph\n",
    "import numpy as np\n",
    "pos=np.arange(2)+1\n",
    "years=[\"COS_SIMILARITY\", \"ADJECTIVE_BASED\"]\n",
    "plt.bar(pos,(cos_recall,adj_recall),align='center',color='green')\n",
    "plt.xlabel('TECHNIQUE')\n",
    "plt.ylabel('RECALL')\n",
    "plt.title('RECALL ANALYSIS')\n",
    "plt.tick_params(axis='x',color='white')\n",
    "plt.tick_params(axis='y',color='white')\n",
    "plt.xticks(pos,years)\n",
    "plt.show()\n",
    "\n"
   ]
  },
  {
   "cell_type": "code",
   "execution_count": null,
   "metadata": {
    "collapsed": true
   },
   "outputs": [],
   "source": []
  },
  {
   "cell_type": "code",
   "execution_count": null,
   "metadata": {
    "collapsed": true
   },
   "outputs": [],
   "source": []
  },
  {
   "cell_type": "code",
   "execution_count": null,
   "metadata": {
    "collapsed": true
   },
   "outputs": [],
   "source": []
  },
  {
   "cell_type": "code",
   "execution_count": null,
   "metadata": {
    "collapsed": true
   },
   "outputs": [],
   "source": []
  },
  {
   "cell_type": "code",
   "execution_count": null,
   "metadata": {
    "collapsed": true
   },
   "outputs": [],
   "source": []
  },
  {
   "cell_type": "code",
   "execution_count": null,
   "metadata": {
    "collapsed": true
   },
   "outputs": [],
   "source": []
  },
  {
   "cell_type": "code",
   "execution_count": null,
   "metadata": {
    "collapsed": true
   },
   "outputs": [],
   "source": []
  },
  {
   "cell_type": "code",
   "execution_count": null,
   "metadata": {
    "collapsed": true
   },
   "outputs": [],
   "source": []
  },
  {
   "cell_type": "code",
   "execution_count": null,
   "metadata": {
    "collapsed": true
   },
   "outputs": [],
   "source": []
  },
  {
   "cell_type": "code",
   "execution_count": null,
   "metadata": {
    "collapsed": true
   },
   "outputs": [],
   "source": []
  },
  {
   "cell_type": "code",
   "execution_count": null,
   "metadata": {
    "collapsed": true
   },
   "outputs": [],
   "source": []
  },
  {
   "cell_type": "code",
   "execution_count": null,
   "metadata": {
    "collapsed": true
   },
   "outputs": [],
   "source": []
  },
  {
   "cell_type": "code",
   "execution_count": null,
   "metadata": {
    "collapsed": true
   },
   "outputs": [],
   "source": []
  },
  {
   "cell_type": "code",
   "execution_count": null,
   "metadata": {
    "collapsed": true
   },
   "outputs": [],
   "source": []
  },
  {
   "cell_type": "code",
   "execution_count": null,
   "metadata": {
    "collapsed": true
   },
   "outputs": [],
   "source": []
  },
  {
   "cell_type": "code",
   "execution_count": null,
   "metadata": {
    "collapsed": true
   },
   "outputs": [],
   "source": []
  },
  {
   "cell_type": "code",
   "execution_count": null,
   "metadata": {
    "collapsed": true
   },
   "outputs": [],
   "source": []
  },
  {
   "cell_type": "code",
   "execution_count": null,
   "metadata": {
    "collapsed": true
   },
   "outputs": [],
   "source": []
  },
  {
   "cell_type": "code",
   "execution_count": null,
   "metadata": {
    "collapsed": true
   },
   "outputs": [],
   "source": []
  },
  {
   "cell_type": "code",
   "execution_count": null,
   "metadata": {
    "collapsed": true
   },
   "outputs": [],
   "source": []
  },
  {
   "cell_type": "code",
   "execution_count": null,
   "metadata": {
    "collapsed": true
   },
   "outputs": [],
   "source": []
  },
  {
   "cell_type": "code",
   "execution_count": null,
   "metadata": {
    "collapsed": true
   },
   "outputs": [],
   "source": []
  },
  {
   "cell_type": "code",
   "execution_count": null,
   "metadata": {
    "collapsed": true
   },
   "outputs": [],
   "source": []
  },
  {
   "cell_type": "code",
   "execution_count": null,
   "metadata": {
    "collapsed": true
   },
   "outputs": [],
   "source": []
  },
  {
   "cell_type": "code",
   "execution_count": null,
   "metadata": {
    "collapsed": true
   },
   "outputs": [],
   "source": []
  },
  {
   "cell_type": "code",
   "execution_count": null,
   "metadata": {
    "collapsed": true
   },
   "outputs": [],
   "source": []
  },
  {
   "cell_type": "code",
   "execution_count": null,
   "metadata": {
    "collapsed": true
   },
   "outputs": [],
   "source": []
  },
  {
   "cell_type": "code",
   "execution_count": null,
   "metadata": {
    "collapsed": true
   },
   "outputs": [],
   "source": []
  },
  {
   "cell_type": "code",
   "execution_count": null,
   "metadata": {
    "collapsed": true
   },
   "outputs": [],
   "source": []
  },
  {
   "cell_type": "code",
   "execution_count": null,
   "metadata": {
    "collapsed": true
   },
   "outputs": [],
   "source": []
  },
  {
   "cell_type": "code",
   "execution_count": null,
   "metadata": {
    "collapsed": true
   },
   "outputs": [],
   "source": []
  },
  {
   "cell_type": "code",
   "execution_count": null,
   "metadata": {
    "collapsed": true
   },
   "outputs": [],
   "source": []
  },
  {
   "cell_type": "code",
   "execution_count": null,
   "metadata": {
    "collapsed": true
   },
   "outputs": [],
   "source": []
  },
  {
   "cell_type": "code",
   "execution_count": null,
   "metadata": {
    "collapsed": true
   },
   "outputs": [],
   "source": []
  },
  {
   "cell_type": "code",
   "execution_count": null,
   "metadata": {
    "collapsed": true
   },
   "outputs": [],
   "source": []
  },
  {
   "cell_type": "code",
   "execution_count": null,
   "metadata": {
    "collapsed": true
   },
   "outputs": [],
   "source": []
  },
  {
   "cell_type": "code",
   "execution_count": null,
   "metadata": {
    "collapsed": true
   },
   "outputs": [],
   "source": []
  },
  {
   "cell_type": "code",
   "execution_count": null,
   "metadata": {
    "collapsed": true
   },
   "outputs": [],
   "source": []
  },
  {
   "cell_type": "code",
   "execution_count": null,
   "metadata": {
    "collapsed": true
   },
   "outputs": [],
   "source": []
  },
  {
   "cell_type": "code",
   "execution_count": null,
   "metadata": {
    "collapsed": true
   },
   "outputs": [],
   "source": []
  },
  {
   "cell_type": "code",
   "execution_count": null,
   "metadata": {
    "collapsed": true
   },
   "outputs": [],
   "source": []
  },
  {
   "cell_type": "code",
   "execution_count": null,
   "metadata": {
    "collapsed": true
   },
   "outputs": [],
   "source": []
  },
  {
   "cell_type": "code",
   "execution_count": null,
   "metadata": {
    "collapsed": true
   },
   "outputs": [],
   "source": []
  },
  {
   "cell_type": "code",
   "execution_count": null,
   "metadata": {
    "collapsed": true
   },
   "outputs": [],
   "source": []
  },
  {
   "cell_type": "code",
   "execution_count": null,
   "metadata": {
    "collapsed": true
   },
   "outputs": [],
   "source": []
  },
  {
   "cell_type": "code",
   "execution_count": null,
   "metadata": {
    "collapsed": true
   },
   "outputs": [],
   "source": []
  },
  {
   "cell_type": "code",
   "execution_count": null,
   "metadata": {
    "collapsed": true
   },
   "outputs": [],
   "source": []
  },
  {
   "cell_type": "code",
   "execution_count": null,
   "metadata": {
    "collapsed": true
   },
   "outputs": [],
   "source": []
  },
  {
   "cell_type": "code",
   "execution_count": null,
   "metadata": {
    "collapsed": true
   },
   "outputs": [],
   "source": []
  },
  {
   "cell_type": "code",
   "execution_count": null,
   "metadata": {
    "collapsed": true
   },
   "outputs": [],
   "source": []
  },
  {
   "cell_type": "code",
   "execution_count": null,
   "metadata": {
    "collapsed": true
   },
   "outputs": [],
   "source": []
  },
  {
   "cell_type": "code",
   "execution_count": null,
   "metadata": {
    "collapsed": true
   },
   "outputs": [],
   "source": []
  },
  {
   "cell_type": "code",
   "execution_count": null,
   "metadata": {
    "collapsed": true
   },
   "outputs": [],
   "source": []
  },
  {
   "cell_type": "code",
   "execution_count": null,
   "metadata": {
    "collapsed": true
   },
   "outputs": [],
   "source": []
  },
  {
   "cell_type": "code",
   "execution_count": 1,
   "metadata": {
    "collapsed": true
   },
   "outputs": [],
   "source": [
    "cosine_fp = 600\n",
    "cosine_tp = 4\n",
    "cosine_fn = 104\n",
    "cosine_tn = 1167"
   ]
  }
 ],
 "metadata": {
  "kernelspec": {
   "display_name": "Python 2",
   "language": "python",
   "name": "python2"
  },
  "language_info": {
   "codemirror_mode": {
    "name": "ipython",
    "version": 2
   },
   "file_extension": ".py",
   "mimetype": "text/x-python",
   "name": "python",
   "nbconvert_exporter": "python",
   "pygments_lexer": "ipython2",
   "version": "2.7.11"
  }
 },
 "nbformat": 4,
 "nbformat_minor": 0
}
